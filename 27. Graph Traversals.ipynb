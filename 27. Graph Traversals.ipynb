{
 "cells": [
  {
   "cell_type": "code",
   "execution_count": 27,
   "metadata": {},
   "outputs": [],
   "source": [
    "class Graphs :\n",
    "    def __init__(self) :\n",
    "        self.adjacency_list = {} # dict\n",
    "        \n",
    "    def add_vertex(self, key) :\n",
    "        if self.adjacency_list.get(key) == None :\n",
    "            self.adjacency_list[key] = []\n",
    "            \n",
    "    def add_edge(self, vrtx_1, vrtx_2) :\n",
    "        self.adjacency_list[vrtx_1].append(vrtx_2) \n",
    "        self.adjacency_list[vrtx_2].append(vrtx_1)\n",
    "#         self.adjacency_list[vrtx_1] += [vrtx_2]\n",
    "\n",
    "    def remove_edge(self, vrtx_1, vrtx_2) :\n",
    "        self.adjacency_list[vrtx_1].remove(vrtx_2)\n",
    "        self.adjacency_list[vrtx_2].remove(vrtx_1)\n",
    "        \n",
    "    def remove_vertex(self, vrtx) :\n",
    "        for list_item in self.adjacency_list[vrtx] :\n",
    "            self.remove_edge(list_item, vrtx)\n",
    "#             self.adjacency_list[list_item].remove(vrtx) # deletes connection FROM list_item TO vrtx            \n",
    "        self.adjacency_list.pop(vrtx)\n",
    "    \n",
    "    def depth_first_recursive(self, start) :\n",
    "        visited = {}\n",
    "        result = []\n",
    "        \n",
    "        def dfs(vrtx) :\n",
    "            result.append(vrtx)\n",
    "            visited[vrtx] = True\n",
    "            \n",
    "            for neighbour in self.adjacency_list[vrtx] :\n",
    "                if visited.get(neighbour) != True :\n",
    "                    dfs(neighbour)\n",
    "            \n",
    "        dfs(start)\n",
    "        return result"
   ]
  },
  {
   "cell_type": "code",
   "execution_count": 28,
   "metadata": {},
   "outputs": [
    {
     "name": "stdout",
     "output_type": "stream",
     "text": [
      "{'A': ['B', 'C'], 'B': ['A', 'D'], 'C': ['A', 'E'], 'D': ['B', 'E', 'F'], 'E': ['C', 'D', 'F'], 'F': ['D', 'E']}\n",
      "['A', 'B', 'D', 'E', 'C', 'F']\n"
     ]
    }
   ],
   "source": [
    "g = Graphs()\n",
    "\n",
    "g.add_vertex(\"A\")\n",
    "g.add_vertex(\"B\")\n",
    "g.add_vertex(\"C\")\n",
    "g.add_vertex(\"D\")\n",
    "g.add_vertex(\"E\")\n",
    "g.add_vertex(\"F\")\n",
    "\n",
    "\n",
    "g.add_edge(\"A\", \"B\")\n",
    "g.add_edge(\"A\", \"C\")\n",
    "g.add_edge(\"B\",\"D\")\n",
    "g.add_edge(\"C\",\"E\")\n",
    "g.add_edge(\"D\",\"E\")\n",
    "g.add_edge(\"D\",\"F\")\n",
    "g.add_edge(\"E\",\"F\")\n",
    "\n",
    "print(g.adjacency_list)\n",
    "print(g.depth_first_recursive(\"A\"))\n",
    "\n",
    "# //          A\n",
    "# //        /   \\\n",
    "# //       B     C\n",
    "# //       |     |\n",
    "# //       D --- E\n",
    "# //        \\   /\n",
    "# //          F\n"
   ]
  },
  {
   "cell_type": "code",
   "execution_count": null,
   "metadata": {},
   "outputs": [],
   "source": []
  }
 ],
 "metadata": {
  "kernelspec": {
   "display_name": "Python 3",
   "language": "python",
   "name": "python3"
  },
  "language_info": {
   "codemirror_mode": {
    "name": "ipython",
    "version": 3
   },
   "file_extension": ".py",
   "mimetype": "text/x-python",
   "name": "python",
   "nbconvert_exporter": "python",
   "pygments_lexer": "ipython3",
   "version": "3.7.3"
  }
 },
 "nbformat": 4,
 "nbformat_minor": 2
}
