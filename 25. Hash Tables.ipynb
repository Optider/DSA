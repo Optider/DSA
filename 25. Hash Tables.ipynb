{
 "cells": [
  {
   "cell_type": "code",
   "execution_count": 121,
   "metadata": {
    "slideshow": {
     "slide_type": "-"
    }
   },
   "outputs": [],
   "source": [
    "def first_hash(key, arrlen) :\n",
    "    total = 0\n",
    "    for char in key.lower() :\n",
    "        val = ord(char) - 96\n",
    "        total = (total + val) % arrlen\n",
    "    return total"
   ]
  },
  {
   "cell_type": "code",
   "execution_count": 122,
   "metadata": {},
   "outputs": [
    {
     "name": "stdout",
     "output_type": "stream",
     "text": [
      "3\n",
      "6\n"
     ]
    }
   ],
   "source": [
    "print(first_hash(\"cyan\", 10))\n",
    "print(first_hash(\"maroon\", 10))"
   ]
  },
  {
   "cell_type": "code",
   "execution_count": 123,
   "metadata": {},
   "outputs": [],
   "source": [
    "def improved_hash(key, arrlen) :\n",
    "    total = 0\n",
    "    some_prime = 31\n",
    "    key = key.lower()\n",
    "    for i in range(min(len(key), 20)) :\n",
    "        val = ord(key[i]) - 96\n",
    "        total = (total*some_prime + val) % arrlen\n",
    "    return total"
   ]
  },
  {
   "cell_type": "code",
   "execution_count": 124,
   "metadata": {
    "scrolled": true
   },
   "outputs": [
    {
     "name": "stdout",
     "output_type": "stream",
     "text": [
      "5\n",
      "11\n",
      "5\n",
      "10\n",
      "9\n"
     ]
    }
   ],
   "source": [
    "prime = 13\n",
    "print(improved_hash(\"cyan\", prime))\n",
    "print(improved_hash(\"maroon\", prime))\n",
    "print(improved_hash(\"pink\", prime))\n",
    "print(improved_hash(\"hi\", prime))\n",
    "print(improved_hash(\"goodbye\", prime))"
   ]
  },
  {
   "cell_type": "code",
   "execution_count": 173,
   "metadata": {},
   "outputs": [],
   "source": [
    "class Hash_Table :\n",
    "    def __init__(self, size = 53) :\n",
    "        self.key_map = [[]] * size\n",
    "        print(self.key_map)\n",
    "        print(len(self.key_map), \"\\n\")\n",
    "\n",
    "    def hashing(self, key) :\n",
    "        total = 0\n",
    "        some_prime = 31\n",
    "        key = key.lower()\n",
    "        for i in range(min(len(key), 10)) :\n",
    "            value = ord(key[i]) - 96\n",
    "            total = (total*some_prime + value) % len(self.key_map)\n",
    "            \n",
    "        return total\n",
    "\n",
    "    def set(self, key, value) :\n",
    "        index = self.hashing(key)\n",
    "        if len(self.key_map[index]) == 0 : # no elem is present\n",
    "            self.key_map[index] = [[key, value]] # can't directly append(), since [[]]* size, creates only 1 [] & stores its address at all places\n",
    "        else :\n",
    "            self.key_map[index].append([key, value])\n",
    "        \n",
    "    def get(self, key) :\n",
    "        index = self.hashing(key)\n",
    "        for i in self.key_map[index] :\n",
    "            if i[0] == key :\n",
    "                return i[1]\n",
    "        return None\n",
    "    \n",
    "    def keys(self) :\n",
    "        keys = []\n",
    "        for item in self.key_map :\n",
    "            if len(item) != 0 :\n",
    "                for sub_item in item : # asssumed only unique keys are there\n",
    "                    keys.append(sub_item[0])\n",
    "        return keys\n",
    "    \n",
    "    def values(self) :\n",
    "        values = []\n",
    "        for item in self.key_map :\n",
    "            if len(item) != 0 :\n",
    "                for sub_item in item :\n",
    "                    if sub_item[1] not in values : # only unique values in values[]\n",
    "                        values.append(sub_item[1])\n",
    "        return values"
   ]
  },
  {
   "cell_type": "code",
   "execution_count": 174,
   "metadata": {},
   "outputs": [
    {
     "name": "stdout",
     "output_type": "stream",
     "text": [
      "[[], [], [], []]\n",
      "4 \n",
      "\n",
      "[[['bata', 'shoes'], ['reebok', 'shoes'], ['jbl', 'earphones']], [['denim', 'jeans']], [], [['levis', 'clothes']]] \n",
      "\n",
      "clothes \n",
      "\n",
      "jeans \n",
      "\n",
      "earphones \n",
      "\n",
      "shoes \n",
      "\n",
      "None \n",
      "\n"
     ]
    }
   ],
   "source": [
    "a = Hash_Table(4)\n",
    "a.set(\"levis\", \"clothes\")\n",
    "a.set(\"bata\", \"shoes\")\n",
    "a.set(\"reebok\", \"shoes\")\n",
    "a.set(\"denim\", \"jeans\")\n",
    "a.set(\"jbl\", \"earphones\")\n",
    "print(a.key_map, \"\\n\")\n",
    "print(a.get(\"levis\"), \"\\n\")\n",
    "print(a.get(\"denim\"), \"\\n\")\n",
    "print(a.get(\"jbl\"), \"\\n\")\n",
    "print(a.get(\"bata\"), \"\\n\")\n",
    "print(a.get(\"apple\"), \"\\n\") # not present"
   ]
  },
  {
   "cell_type": "code",
   "execution_count": 176,
   "metadata": {},
   "outputs": [
    {
     "name": "stdout",
     "output_type": "stream",
     "text": [
      "['bata', 'reebok', 'jbl', 'denim', 'levis']\n",
      "['shoes', 'earphones', 'jeans', 'clothes']\n",
      "shoes\n",
      "shoes\n",
      "earphones\n",
      "jeans\n",
      "clothes\n"
     ]
    }
   ],
   "source": [
    "print(a.keys())\n",
    "print(a.values())\n",
    "for key in a.keys() :\n",
    "    print(a.get(key))"
   ]
  }
 ],
 "metadata": {
  "kernelspec": {
   "display_name": "Python 3",
   "language": "python",
   "name": "python3"
  },
  "language_info": {
   "codemirror_mode": {
    "name": "ipython",
    "version": 3
   },
   "file_extension": ".py",
   "mimetype": "text/x-python",
   "name": "python",
   "nbconvert_exporter": "python",
   "pygments_lexer": "ipython3",
   "version": "3.7.3"
  }
 },
 "nbformat": 4,
 "nbformat_minor": 2
}
