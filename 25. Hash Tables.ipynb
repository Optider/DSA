{
 "cells": [
  {
   "cell_type": "code",
   "execution_count": 121,
   "metadata": {
    "slideshow": {
     "slide_type": "-"
    }
   },
   "outputs": [],
   "source": [
    "def first_hash(key, arrlen) :\n",
    "    total = 0\n",
    "    for char in key.lower() :\n",
    "        val = ord(char) - 96\n",
    "        total = (total + val) % arrlen\n",
    "    return total"
   ]
  },
  {
   "cell_type": "code",
   "execution_count": 122,
   "metadata": {},
   "outputs": [
    {
     "name": "stdout",
     "output_type": "stream",
     "text": [
      "3\n",
      "6\n"
     ]
    }
   ],
   "source": [
    "print(first_hash(\"cyan\", 10))\n",
    "print(first_hash(\"maroon\", 10))"
   ]
  },
  {
   "cell_type": "code",
   "execution_count": 123,
   "metadata": {},
   "outputs": [],
   "source": [
    "def improved_hash(key, arrlen) :\n",
    "    total = 0\n",
    "    some_prime = 31\n",
    "    key = key.lower()\n",
    "    for i in range(min(len(key), 20)) :\n",
    "        val = ord(key[i]) - 96\n",
    "        total = (total*some_prime + val) % arrlen\n",
    "    return total"
   ]
  },
  {
   "cell_type": "code",
   "execution_count": 124,
   "metadata": {
    "scrolled": true
   },
   "outputs": [
    {
     "name": "stdout",
     "output_type": "stream",
     "text": [
      "5\n",
      "11\n",
      "5\n",
      "10\n",
      "9\n"
     ]
    }
   ],
   "source": [
    "prime = 13\n",
    "print(improved_hash(\"cyan\", prime))\n",
    "print(improved_hash(\"maroon\", prime))\n",
    "print(improved_hash(\"pink\", prime))\n",
    "print(improved_hash(\"hi\", prime))\n",
    "print(improved_hash(\"goodbye\", prime))"
   ]
  },
  {
   "cell_type": "code",
   "execution_count": 125,
   "metadata": {},
   "outputs": [],
   "source": [
    "class Hash_Table :\n",
    "    def __init__(self, size = 53) :\n",
    "        self.key_map = [[]] * size\n",
    "        print(self.key_map)\n",
    "        print(len(self.key_map), \"\\n\")\n",
    "\n",
    "    def hashing(self, key) :\n",
    "        total = 0\n",
    "        some_prime = 31\n",
    "        key = key.lower()\n",
    "        for i in range(min(len(key), 10)) :\n",
    "            value = ord(key[i]) - 96\n",
    "            total = (total*some_prime + value) % len(self.key_map)\n",
    "            \n",
    "        return total\n",
    "\n",
    "    def set(self, key, value) :\n",
    "        index = self.hashing(key)\n",
    "        if len(self.key_map[index]) == 0 :\n",
    "            self.key_map[index] = [[key, value]] # can't directly append(), since [[]]* size, creates only 1 [] & stores its address at all places\n",
    "        else :\n",
    "            self.key_map[index].append([key, value])\n",
    "        \n",
    "    def get(self, key) :\n",
    "        index = self.hashing(key)\n",
    "        for i in self.key_map[index] :\n",
    "            if i[0] == key :\n",
    "                return i[1]\n",
    "        return None"
   ]
  },
  {
   "cell_type": "code",
   "execution_count": 126,
   "metadata": {},
   "outputs": [
    {
     "name": "stdout",
     "output_type": "stream",
     "text": [
      "[[], [], [], []]\n",
      "4 \n",
      "\n",
      "[[['bata', 'shoes'], ['jbl', 'earphones']], [['denim', 'jeans']], [], [['levis', 'clothes']]] \n",
      "\n",
      "clothes \n",
      "\n",
      "jeans \n",
      "\n",
      "earphones \n",
      "\n",
      "shoes \n",
      "\n",
      "None \n",
      "\n"
     ]
    }
   ],
   "source": [
    "a = Hash_Table(4)\n",
    "a.set(\"levis\", \"clothes\")\n",
    "a.set(\"bata\", \"shoes\")\n",
    "a.set(\"denim\", \"jeans\")\n",
    "a.set(\"jbl\", \"earphones\")\n",
    "print(a.key_map, \"\\n\")\n",
    "print(a.get(\"levis\"), \"\\n\")\n",
    "print(a.get(\"denim\"), \"\\n\")\n",
    "print(a.get(\"jbl\"), \"\\n\")\n",
    "print(a.get(\"bata\"), \"\\n\")\n",
    "print(a.get(\"apple\"), \"\\n\") # not present"
   ]
  }
 ],
 "metadata": {
  "kernelspec": {
   "display_name": "Python 3",
   "language": "python",
   "name": "python3"
  },
  "language_info": {
   "codemirror_mode": {
    "name": "ipython",
    "version": 3
   },
   "file_extension": ".py",
   "mimetype": "text/x-python",
   "name": "python",
   "nbconvert_exporter": "python",
   "pygments_lexer": "ipython3",
   "version": "3.7.3"
  }
 },
 "nbformat": 4,
 "nbformat_minor": 2
}
