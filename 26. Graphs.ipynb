{
 "cells": [
  {
   "cell_type": "code",
   "execution_count": 259,
   "metadata": {},
   "outputs": [],
   "source": [
    "class Graphs :\n",
    "    def __init__(self) :\n",
    "        self.adjacency_list = {} # dict\n",
    "        \n",
    "    def add_vertex(self, key) :\n",
    "        if self.adjacency_list.get(key) == None :\n",
    "            self.adjacency_list[key] = []\n",
    "            \n",
    "    def add_edge(self, vrtx_1, vrtx_2) :\n",
    "        self.adjacency_list[vrtx_1].append(vrtx_2) \n",
    "        self.adjacency_list[vrtx_2].append(vrtx_1)\n",
    "#         self.adjacency_list[vrtx_1] += [vrtx_2]\n",
    "\n",
    "    def remove_edge(self, vrtx_1, vrtx_2) :\n",
    "        self.adjacency_list[vrtx_1].remove(vrtx_2)\n",
    "        self.adjacency_list[vrtx_2].remove(vrtx_1)\n",
    "        \n",
    "    def remove_vertex(self, vrtx) :\n",
    "        for list_item in self.adjacency_list[vrtx] :\n",
    "            self.remove_edge(list_item, vrtx)\n",
    "#             self.adjacency_list[list_item].remove(vrtx) # deletes connection FROM list_item TO vrtx            \n",
    "        self.adjacency_list.pop(vrtx)"
   ]
  },
  {
   "cell_type": "code",
   "execution_count": 260,
   "metadata": {
    "scrolled": true
   },
   "outputs": [
    {
     "name": "stdout",
     "output_type": "stream",
     "text": [
      "{'Pune': [], 'Mumbai': [], 'Banglore': [], 'Chennai': []}\n",
      "{'Pune': ['Mumbai', 'Banglore', 'Chennai'], 'Mumbai': ['Pune'], 'Banglore': ['Pune', 'Chennai'], 'Chennai': ['Pune', 'Banglore']}\n",
      "{'Pune': ['Chennai'], 'Mumbai': [], 'Banglore': ['Chennai'], 'Chennai': ['Pune', 'Banglore']}\n",
      "{'Pune': ['Chennai'], 'Mumbai': [], 'Chennai': ['Pune']}\n"
     ]
    }
   ],
   "source": [
    "a = Graphs()\n",
    "\n",
    "# Add vertex\n",
    "a.add_vertex(\"Pune\")\n",
    "a.add_vertex(\"Mumbai\")\n",
    "a.add_vertex(\"Banglore\")\n",
    "a.add_vertex(\"Chennai\")\n",
    "\n",
    "print(a.adjacency_list)\n",
    "\n",
    "# Add edge\n",
    "a.add_edge(\"Mumbai\", \"Pune\")\n",
    "a.add_edge(\"Banglore\", \"Pune\")\n",
    "a.add_edge(\"Chennai\", \"Pune\")\n",
    "a.add_edge(\"Banglore\", \"Chennai\")\n",
    "\n",
    "print(a.adjacency_list)\n",
    "\n",
    "# Remove edge\n",
    "a.remove_edge(\"Pune\", \"Banglore\")\n",
    "a.remove_edge(\"Mumbai\", \"Pune\")\n",
    "\n",
    "print(a.adjacency_list)\n",
    "\n",
    "# Remove vertex\n",
    "a.remove_vertex(\"Banglore\")\n",
    "\n",
    "print(a.adjacency_list)\n"
   ]
  },
  {
   "cell_type": "code",
   "execution_count": null,
   "metadata": {},
   "outputs": [],
   "source": []
  }
 ],
 "metadata": {
  "kernelspec": {
   "display_name": "Python 3",
   "language": "python",
   "name": "python3"
  },
  "language_info": {
   "codemirror_mode": {
    "name": "ipython",
    "version": 3
   },
   "file_extension": ".py",
   "mimetype": "text/x-python",
   "name": "python",
   "nbconvert_exporter": "python",
   "pygments_lexer": "ipython3",
   "version": "3.7.3"
  }
 },
 "nbformat": 4,
 "nbformat_minor": 2
}
