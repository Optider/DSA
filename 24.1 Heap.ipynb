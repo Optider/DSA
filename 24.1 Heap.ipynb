{
 "cells": [
  {
   "cell_type": "code",
   "execution_count": 16,
   "metadata": {},
   "outputs": [],
   "source": [
    "class Binary_Heap :\n",
    "    \n",
    "    def __init__(self) :\n",
    "        self.values = []\n",
    "    \n",
    "    def insert(self, val) :\n",
    "        self.values.append(val)\n",
    "#        print(self.values)\n",
    "        if len(self.values) > 1:\n",
    "            self.bubble_up()\n",
    "        \n",
    "    def bubble_up(self) :\n",
    "        child_idx = len(self.values)-1\n",
    "        parent_idx = (child_idx-1)//2 # floor value\n",
    "        \n",
    "        while child_idx > 0 :\n",
    "#             if child_idx == 0 : # single node\n",
    "#                 break\n",
    "            child = self.values[child_idx]\n",
    "            parent = self.values[parent_idx]\n",
    "\n",
    "            if parent < child :\n",
    "                self.values[parent_idx], self.values[child_idx] = self.values[child_idx], self.values[parent_idx]\n",
    "                child_idx = parent_idx\n",
    "                parent_idx = (child_idx-1)//2 # floor value\n",
    "#                print(self.values)\n",
    "\n",
    "            else :\n",
    "                break\n",
    "            \n",
    "    def remove(self) :\n",
    "        if len(self.values) == 0 :\n",
    "            return None\n",
    "            \n",
    "        self.values[0], self.values[-1] = self.values[-1], self.values[0]\n",
    "        rem_elem = self.values.pop()\n",
    "        if len(self.values) > 1 :\n",
    "            self.bubble_down()\n",
    "        return rem_elem\n",
    "    \n",
    "    def bubble_down(self) :\n",
    "        parent_idx = 0\n",
    "        \n",
    "        while True :\n",
    "            swap = None\n",
    "            child_idx_1 = 2*parent_idx + 1\n",
    "            child_idx_2 = 2*parent_idx + 2\n",
    "\n",
    "            parent = self.values[parent_idx]\n",
    "            \n",
    "            \n",
    "            if (child_idx_1) < len(self.values) and self.values[child_idx_1] > parent :\n",
    "                largest = child_idx_1\n",
    "            else :\n",
    "                largest = parent_idx\n",
    "            if (child_idx_2) < len(self.values) and self.values[child_idx_2] > self.values[largest] :\n",
    "                largest = child_idx_2\n",
    "                \n",
    "            if largest == parent_idx :\n",
    "                break\n",
    "                \n",
    "            self.values[parent_idx], self.values[largest] = self.values[largest], self.values[parent_idx]\n",
    "            parent_idx = largest\n",
    "            \n",
    "\n",
    "#             # if two child exists\n",
    "#             if (child_idx_2) < len(self.values) :\n",
    "                \n",
    "#                 child_1 = self.values[child_idx_1]\n",
    "#                 child_2 = self.values[child_idx_2]\n",
    "                \n",
    "#                 max_child = max(child_1, child_2)\n",
    "#                 if max_child > parent :\n",
    "#                     swap = self.values.index(max_child)\n",
    "#             # if one child exists\n",
    "#             elif (child_idx_1) < len(self.values) :\n",
    "                \n",
    "#                 child_1 = self.values[child_idx_1]            \n",
    "#                 if parent < child_1 :\n",
    "#                     swap = child_idx_1\n",
    "            \n",
    "#             print(\"Parentidx = \", parent_idx, \"swap_idx = \", swap, \"Values len = \", len(self.values))\n",
    "#             if swap is None :\n",
    "#                 break\n",
    "                \n",
    "#             self.values[parent_idx], self.values[swap] = self.values[swap], self.values[parent_idx]\n",
    "#             parent_idx = swap\n",
    "    \n",
    "#       [200, 100, 36, 17, 19]"
   ]
  },
  {
   "cell_type": "code",
   "execution_count": 17,
   "metadata": {},
   "outputs": [
    {
     "name": "stdout",
     "output_type": "stream",
     "text": [
      "[100, 19, 36, 17]\n",
      "[200, 100, 36, 17, 19]\n",
      "[55, 39, 41, 18, 27, 12, 33]\n"
     ]
    }
   ],
   "source": [
    "h = Binary_Heap()\n",
    "h.insert(100)\n",
    "h.insert(19)\n",
    "h.insert(36)\n",
    "h.insert(17)\n",
    "print(h.values)\n",
    "h.insert(200)\n",
    "print(h.values)\n",
    "\n",
    "heap = Binary_Heap()\n",
    "heap.insert(41);\n",
    "heap.insert(39);\n",
    "heap.insert(33);\n",
    "heap.insert(18);\n",
    "heap.insert(27);\n",
    "heap.insert(12);\n",
    "heap.insert(55);\n",
    "print(heap.values)"
   ]
  },
  {
   "cell_type": "code",
   "execution_count": 18,
   "metadata": {},
   "outputs": [
    {
     "name": "stdout",
     "output_type": "stream",
     "text": [
      "larges =  1\n",
      "55\n",
      "[41, 39, 33, 18, 27, 12]\n",
      "larges =  3\n",
      "41\n",
      "[39, 27, 33, 18, 12]\n",
      "larges =  1\n",
      "39\n",
      "[33, 27, 12, 18]\n",
      "33\n",
      "[27, 18, 12]\n",
      "27\n",
      "[18, 12]\n"
     ]
    }
   ],
   "source": [
    "print(heap.remove())\n",
    "print(heap.values)\n",
    "print(heap.remove())\n",
    "print(heap.values)\n",
    "print(heap.remove())\n",
    "print(heap.values)\n",
    "print(heap.remove())\n",
    "print(heap.values)\n",
    "print(heap.remove())\n",
    "print(heap.values)"
   ]
  },
  {
   "cell_type": "code",
   "execution_count": 19,
   "metadata": {},
   "outputs": [
    {
     "name": "stdout",
     "output_type": "stream",
     "text": [
      "[18, 12]\n",
      "18\n",
      "[12]\n"
     ]
    }
   ],
   "source": [
    "print(heap.values)\n",
    "print(heap.remove())\n",
    "print(heap.values)\n"
   ]
  },
  {
   "cell_type": "code",
   "execution_count": 20,
   "metadata": {},
   "outputs": [
    {
     "name": "stdout",
     "output_type": "stream",
     "text": [
      "[12]\n",
      "12\n",
      "[]\n"
     ]
    }
   ],
   "source": [
    "print(heap.values)\n",
    "\n",
    "print(heap.remove())\n",
    "print(heap.values)\n"
   ]
  },
  {
   "cell_type": "code",
   "execution_count": 21,
   "metadata": {},
   "outputs": [
    {
     "name": "stdout",
     "output_type": "stream",
     "text": [
      "[]\n",
      "None\n",
      "[]\n"
     ]
    }
   ],
   "source": [
    "print(heap.values)\n",
    "\n",
    "print(heap.remove())\n",
    "print(heap.values)\n"
   ]
  }
 ],
 "metadata": {
  "kernelspec": {
   "display_name": "Python 3",
   "language": "python",
   "name": "python3"
  },
  "language_info": {
   "codemirror_mode": {
    "name": "ipython",
    "version": 3
   },
   "file_extension": ".py",
   "mimetype": "text/x-python",
   "name": "python",
   "nbconvert_exporter": "python",
   "pygments_lexer": "ipython3",
   "version": "3.7.3"
  }
 },
 "nbformat": 4,
 "nbformat_minor": 2
}
